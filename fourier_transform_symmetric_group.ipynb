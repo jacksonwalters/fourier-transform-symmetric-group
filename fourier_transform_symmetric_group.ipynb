{
 "cells": [
  {
   "cell_type": "code",
   "execution_count": 95,
   "id": "df28fcb5",
   "metadata": {},
   "outputs": [],
   "source": [
    "#define a permutation group of size n!\n",
    "n=3\n",
    "G=SymmetricGroup(n)"
   ]
  },
  {
   "cell_type": "code",
   "execution_count": 90,
   "id": "3b839251",
   "metadata": {},
   "outputs": [],
   "source": [
    "#define the Fourier transform at the representation spc\n",
    "#which is the Specht module corresponding to partition\n",
    "def f_hat(f,partition):\n",
    "    spc = SymmetricGroupRepresentation(partition, 'specht')\n",
    "    return sum(f(sigma)*spc.representation_matrix(Permutation(sigma)) for sigma in G)"
   ]
  },
  {
   "cell_type": "code",
   "execution_count": 91,
   "id": "2cba26cc",
   "metadata": {},
   "outputs": [],
   "source": [
    "#one way to build functions of a group G is to use a rep'n\n",
    "#given an action of G on C^n, one can take any function g:C^n-->C\n",
    "#and precompose so that f(sigma) = g(sigma*x_0) for a fixed point x_0\n",
    "#note that f inherits symmetry properties of the function g\n",
    "#for instance, if g(x)=sum_i x_i, then g is invariant under S_n\n",
    "#f(sigma)=g(sigma*x_0)=g(x_0)=constant\n",
    "x_0=vector([1,2,3])\n",
    "def g(x):\n",
    "    return sum(x_i for x_i in x)\n",
    "def f(sigma):\n",
    "    return g(Permutation(sigma).to_matrix()*x_0)"
   ]
  },
  {
   "cell_type": "code",
   "execution_count": 165,
   "id": "9f031dae",
   "metadata": {},
   "outputs": [
    {
     "data": {
      "text/plain": [
       "{[3]: [36],\n",
       " [2, 1]: [0 0]\n",
       " [0 0],\n",
       " [1, 1, 1]: [0]}"
      ]
     },
     "execution_count": 165,
     "metadata": {},
     "output_type": "execute_result"
    }
   ],
   "source": [
    "fourier_coeffs={partition:f_hat(f,partition) for partition in Partitions(n)}; fourier_coeffs"
   ]
  },
  {
   "cell_type": "code",
   "execution_count": 160,
   "id": "ce36d7d8",
   "metadata": {},
   "outputs": [],
   "source": [
    "#define the inverse Fourier transform\n",
    "#given a collection of matrices for each representation rho_i\n",
    "def fourier_inv(sigma,f_hat):\n",
    "    value=0\n",
    "    for partition in Partitions(n):\n",
    "        spc = SymmetricGroupRepresentation(partition, 'specht')\n",
    "        repn_mat = spc.representation_matrix(Permutation(sigma).inverse())\n",
    "        d_part = repn_mat.ncols() #should extract directly from parition of rep'n\n",
    "        fourier_coeff = f_hat[partition] #fourier coefficient\n",
    "        value += d_part*(repn_mat*fourier_coeff).trace()\n",
    "    return (1/G.order())*value"
   ]
  },
  {
   "cell_type": "code",
   "execution_count": 163,
   "id": "ca52a0ec",
   "metadata": {},
   "outputs": [
    {
     "data": {
      "text/plain": [
       "6"
      ]
     },
     "execution_count": 163,
     "metadata": {},
     "output_type": "execute_result"
    }
   ],
   "source": [
    "fourier_inv(Permutation([3,1,2]),fourier_coeffs)"
   ]
  },
  {
   "cell_type": "code",
   "execution_count": null,
   "id": "2985b679",
   "metadata": {},
   "outputs": [],
   "source": []
  }
 ],
 "metadata": {
  "kernelspec": {
   "display_name": "SageMath 9.6",
   "language": "sage",
   "name": "sagemath-9.6"
  },
  "language_info": {
   "codemirror_mode": {
    "name": "ipython",
    "version": 3
   },
   "file_extension": ".py",
   "mimetype": "text/x-python",
   "name": "python",
   "nbconvert_exporter": "python",
   "pygments_lexer": "ipython3",
   "version": "3.10.3"
  }
 },
 "nbformat": 4,
 "nbformat_minor": 5
}
