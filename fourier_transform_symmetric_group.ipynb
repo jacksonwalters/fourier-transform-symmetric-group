{
 "cells": [
  {
   "cell_type": "code",
   "execution_count": 87,
   "id": "df28fcb5",
   "metadata": {},
   "outputs": [],
   "source": [
    "#define a permutation group of size n!\n",
    "n=4\n",
    "G=SymmetricGroup(n)"
   ]
  },
  {
   "cell_type": "code",
   "execution_count": 88,
   "id": "3b839251",
   "metadata": {},
   "outputs": [],
   "source": [
    "#define the Fourier transform at the representation spc\n",
    "#which is the Specht module corresponding to partition\n",
    "def f_hat(f,partition):\n",
    "    spc = SymmetricGroupRepresentation(partition, 'specht')\n",
    "    return sum(f(sigma)*spc.representation_matrix(Permutation(sigma)) for sigma in G)"
   ]
  },
  {
   "cell_type": "code",
   "execution_count": null,
   "id": "38bb05bc",
   "metadata": {},
   "outputs": [],
   "source": []
  },
  {
   "cell_type": "code",
   "execution_count": 134,
   "id": "f8c2b177",
   "metadata": {},
   "outputs": [],
   "source": [
    "def fourier_coeffs(f):\n",
    "    return {partition:f_hat(f,partition) for partition in Partitions(n)}"
   ]
  },
  {
   "cell_type": "code",
   "execution_count": 10,
   "id": "75bcdc5a",
   "metadata": {},
   "outputs": [],
   "source": [
    "#define the inverse Fourier transform\n",
    "#given a collection of matrices for each representation rho_i\n",
    "def fourier_inv(sigma,f_hat):\n",
    "    value=0\n",
    "    for partition in Partitions(n):\n",
    "        spc = SymmetricGroupRepresentation(partition, 'specht')\n",
    "        repn_mat = spc.representation_matrix(Permutation(sigma).inverse())\n",
    "        d_part = repn_mat.ncols() #should extract directly from parition of rep'n\n",
    "        fourier_coeff = f_hat[partition] #fourier coefficient\n",
    "        value += d_part*(repn_mat*fourier_coeff).trace()\n",
    "    return (1/G.order())*value"
   ]
  },
  {
   "cell_type": "code",
   "execution_count": null,
   "id": "b4748242",
   "metadata": {},
   "outputs": [],
   "source": [
    "#one way to build functions of a group G is to use a rep'n\n",
    "#given an action of G on C^n, one can take any function g:C^n-->C\n",
    "#and precompose so that f(sigma) = g(sigma*x_0) for a given point x_0\n",
    "#note that f inherits symmetry properties of the function g\n",
    "#for instance, if g(x)=sum_i x_i, then g is invariant under S_n\n",
    "#f(sigma)=g(sigma*x_0)=g(x_0)=constant\n",
    "x_0=vector([1,2,3,4])\n",
    "def g(x):\n",
    "    #return sum(x_i for x_i in x)\n",
    "    return x[0]-x[1]+x[2]\n",
    "#note that C^3 is the sum of the standard rep'n and the trivial rep'n\n",
    "#so that sigma*x = sigma*(x_triv+x_std), i.e. the sign rep'n component of x is zero\n",
    "#so the f cannot depend on it\n",
    "def f(sigma):\n",
    "    #return g(Permutation(sigma).to_matrix()*x_0)\n",
    "    #return Permutation(sigma).sign()\n",
    "    return min(len(c) for c in Permutation(sigma).to_cycles())"
   ]
  },
  {
   "cell_type": "code",
   "execution_count": null,
   "id": "a8d45f7c",
   "metadata": {},
   "outputs": [],
   "source": [
    "fourier_inv(Permutation([3,1,2,4]),fourier_coeffs(f))==f(Permutation([3,1,2,4]))"
   ]
  },
  {
   "cell_type": "code",
   "execution_count": 47,
   "id": "197c1dd0",
   "metadata": {},
   "outputs": [],
   "source": [
    "#the representation ring of S_3 is isomorphic to Z[X,Y]/(XY − Y,X2 − 1,Y2 − X − Y − 1)"
   ]
  },
  {
   "cell_type": "code",
   "execution_count": 140,
   "id": "eb6b3a61",
   "metadata": {},
   "outputs": [
    {
     "data": {
      "text/plain": [
       "{[4]: [45],\n",
       " [3, 1]: [-7  0  0]\n",
       " [ 0 -7  0]\n",
       " [ 0  0 -7],\n",
       " [2, 2]: [3 0]\n",
       " [0 3],\n",
       " [2, 1, 1]: [5 0 0]\n",
       " [0 5 0]\n",
       " [0 0 5],\n",
       " [1, 1, 1, 1]: [-15]}"
      ]
     },
     "execution_count": 140,
     "metadata": {},
     "output_type": "execute_result"
    }
   ],
   "source": [
    "fourier_coeffs(f)"
   ]
  },
  {
   "cell_type": "code",
   "execution_count": 139,
   "id": "96d4cd50",
   "metadata": {},
   "outputs": [
    {
     "data": {
      "text/plain": [
       "[1, 2, 2, 2, 1, 1, 1, 1, 1, 1, 1, 1, 1, 4, 4, 1, 1, 4, 1, 4, 1, 1, 4, 4]"
      ]
     },
     "execution_count": 139,
     "metadata": {},
     "output_type": "execute_result"
    }
   ],
   "source": [
    "f_list=[f(sigma) for sigma in G]; f_list"
   ]
  },
  {
   "cell_type": "code",
   "execution_count": 76,
   "id": "471f1969",
   "metadata": {},
   "outputs": [],
   "source": [
    "def flatten(l):\n",
    "    return [item for sublist in l for item in sublist]"
   ]
  },
  {
   "cell_type": "code",
   "execution_count": 143,
   "id": "cfc9758c",
   "metadata": {},
   "outputs": [
    {
     "data": {
      "text/plain": [
       "[45, -7, 0, 0, 0, -7, 0, 0, 0, -7, 3, 0, 0, 3, 5, 0, 0, 0, 5, 0, 0, 0, 5, -15]"
      ]
     },
     "execution_count": 143,
     "metadata": {},
     "output_type": "execute_result"
    }
   ],
   "source": [
    "fourier_coeffs_list_f=sum([flatten(fourier_coeffs(f)[part]) for part in Partitions(n)], []); fourier_coeffs_list"
   ]
  },
  {
   "cell_type": "code",
   "execution_count": 144,
   "id": "358facf1",
   "metadata": {},
   "outputs": [
    {
     "data": {
      "image/png": "[encoded data removed]",
      "text/plain": [
       "Graphics object consisting of 1 graphics primitive"
      ]
     },
     "execution_count": 144,
     "metadata": {},
     "output_type": "execute_result"
    }
   ],
   "source": [
    "matrix_plot([f_list])"
   ]
  },
  {
   "cell_type": "code",
   "execution_count": 145,
   "id": "973f04a6",
   "metadata": {},
   "outputs": [
    {
     "data": {
      "image/png": "[encoded data removed]",
      "text/plain": [
       "Graphics object consisting of 1 graphics primitive"
      ]
     },
     "execution_count": 145,
     "metadata": {},
     "output_type": "execute_result"
    }
   ],
   "source": [
    "matrix_plot([fourier_coeffs_list_f])"
   ]
  },
  {
   "cell_type": "code",
   "execution_count": 132,
   "id": "c6e15584",
   "metadata": {},
   "outputs": [],
   "source": [
    "L=20\n",
    "assert(L < G.order())\n",
    "data=[i for i in range(L)]\n",
    "data_padding = data + (G.order()-L)*[0]\n",
    "#find the index of the element sigma\n",
    "def group_index(sigma):\n",
    "    for i in range(G.order()):\n",
    "        if Permutation(sigma) == Permutation(G[i]):\n",
    "            index = i\n",
    "    return index\n",
    "def h(sigma):\n",
    "    return data_padding[group_index(sigma)]"
   ]
  },
  {
   "cell_type": "code",
   "execution_count": 133,
   "id": "b5bc1dc2",
   "metadata": {},
   "outputs": [
    {
     "data": {
      "text/plain": [
       "12"
      ]
     },
     "execution_count": 133,
     "metadata": {},
     "output_type": "execute_result"
    }
   ],
   "source": [
    "h(Permutation([1,2,4,3]))"
   ]
  },
  {
   "cell_type": "code",
   "execution_count": 126,
   "id": "aac193e7",
   "metadata": {},
   "outputs": [
    {
     "data": {
      "text/plain": [
       "[1, 2, 3, 4]"
      ]
     },
     "execution_count": 126,
     "metadata": {},
     "output_type": "execute_result"
    }
   ],
   "source": [
    "Permutation([1,2,3,4])"
   ]
  },
  {
   "cell_type": "code",
   "execution_count": 148,
   "id": "d5ce4c61",
   "metadata": {},
   "outputs": [
    {
     "data": {
      "text/plain": [
       "{[4]: [190],\n",
       " [3, 1]: [-9 -1  2]\n",
       " [-9 -1  2]\n",
       " [-3  1  2],\n",
       " [2, 2]: [ 38 -86]\n",
       " [  0 -86],\n",
       " [2, 1, 1]: [-3  3 -1]\n",
       " [-1  1  1]\n",
       " [-2  2 -2],\n",
       " [1, 1, 1, 1]: [-58]}"
      ]
     },
     "execution_count": 148,
     "metadata": {},
     "output_type": "execute_result"
    }
   ],
   "source": [
    "fourier_coeffs(h)"
   ]
  },
  {
   "cell_type": "code",
   "execution_count": 149,
   "id": "92170c04",
   "metadata": {},
   "outputs": [],
   "source": [
    "fourier_coeffs_list_h=sum([flatten(fourier_coeffs(h)[part]) for part in Partitions(n)], [])"
   ]
  },
  {
   "cell_type": "code",
   "execution_count": 154,
   "id": "24f67324",
   "metadata": {},
   "outputs": [
    {
     "data": {
      "image/png": "[encoded data removed]",
      "text/plain": [
       "Graphics object consisting of 1 graphics primitive"
      ]
     },
     "execution_count": 154,
     "metadata": {},
     "output_type": "execute_result"
    }
   ],
   "source": [
    "matrix_plot([data_padding])"
   ]
  },
  {
   "cell_type": "code",
   "execution_count": 152,
   "id": "b7fa7b5a",
   "metadata": {},
   "outputs": [
    {
     "data": {
      "image/png": "[encoded data removed]",
      "text/plain": [
       "Graphics object consisting of 1 graphics primitive"
      ]
     },
     "execution_count": 152,
     "metadata": {},
     "output_type": "execute_result"
    }
   ],
   "source": [
    "matrix_plot([fourier_coeffs_list_h])"
   ]
  },
  {
   "cell_type": "code",
   "execution_count": null,
   "id": "2cd88323",
   "metadata": {},
   "outputs": [],
   "source": []
  }
 ],
 "metadata": {
  "kernelspec": {
   "display_name": "Python 3",
   "language": "python",
   "name": "python3"
  },
  "language_info": {
   "codemirror_mode": {
    "name": "ipython",
    "version": 3
   },
   "file_extension": ".py",
   "mimetype": "text/x-python",
   "name": "python",
   "nbconvert_exporter": "python",
   "pygments_lexer": "ipython3",
   "version": "3.12.2"
  }
 },
 "nbformat": 4,
 "nbformat_minor": 5
}
