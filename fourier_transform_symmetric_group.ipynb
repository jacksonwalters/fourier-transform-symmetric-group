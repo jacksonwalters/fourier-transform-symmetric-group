{
 "cells": [
  {
   "cell_type": "code",
   "execution_count": 48,
   "id": "df28fcb5",
   "metadata": {},
   "outputs": [],
   "source": [
    "#define a permutation group of size n!\n",
    "n=3\n",
    "G=SymmetricGroup(n)"
   ]
  },
  {
   "cell_type": "code",
   "execution_count": 49,
   "id": "3b839251",
   "metadata": {},
   "outputs": [],
   "source": [
    "#define the Fourier transform at the representation spc\n",
    "#which is the Specht module corresponding to partition\n",
    "def f_hat(f,partition):\n",
    "    spc = SymmetricGroupRepresentation(partition, 'specht')\n",
    "    return sum(f(sigma)*spc.representation_matrix(Permutation(sigma)) for sigma in G)"
   ]
  },
  {
   "cell_type": "code",
   "execution_count": 69,
   "id": "38bb05bc",
   "metadata": {},
   "outputs": [],
   "source": [
    "#one way to build functions of a group G is to use a rep'n\n",
    "#given an action of G on C^n, one can take any function g:C^n-->C\n",
    "#and precompose so that f(sigma) = g(sigma*x_0) for a fixed point x_0\n",
    "#note that f inherits symmetry properties of the function g\n",
    "#for instance, if g(x)=sum_i x_i, then g is invariant under S_n\n",
    "#f(sigma)=g(sigma*x_0)=g(x_0)=constant\n",
    "x_0=vector([1,2,3])\n",
    "def g(x):\n",
    "    #return sum(x_i for x_i in x)\n",
    "    return x[0]-x[1]+x[2]\n",
    "#note that C^3 is the sum of the standard rep'n and the trivial rep'n\n",
    "#so that sigma*x = sigma*(x_triv+x_std), i.e. the sign rep'n component of x is zero\n",
    "#so the f cannot depend on it\n",
    "def f(sigma):\n",
    "    #return g(Permutation(sigma).to_matrix()*x_0)\n",
    "    #return Permutation(sigma).sign()\n",
    "    return min(len(c) for c in Permutation(sigma).to_cycles())"
   ]
  },
  {
   "cell_type": "code",
   "execution_count": 72,
   "id": "6b72153a",
   "metadata": {},
   "outputs": [
    {
     "data": {
      "text/plain": [
       "[1, 3, 3, 1, 1, 1]"
      ]
     },
     "execution_count": 72,
     "metadata": {},
     "output_type": "execute_result"
    }
   ],
   "source": [
    "[f(sigma) for sigma in G]"
   ]
  },
  {
   "cell_type": "code",
   "execution_count": 71,
   "id": "f8c2b177",
   "metadata": {},
   "outputs": [
    {
     "data": {
      "text/plain": [
       "{[3]: [10],\n",
       " [2, 1]: [-2  0]\n",
       " [ 0 -2],\n",
       " [1, 1, 1]: [4]}"
      ]
     },
     "execution_count": 71,
     "metadata": {},
     "output_type": "execute_result"
    }
   ],
   "source": [
    "fourier_coeffs={partition:f_hat(f,partition) for partition in Partitions(n)}; fourier_coeffs"
   ]
  },
  {
   "cell_type": "code",
   "execution_count": 10,
   "id": "75bcdc5a",
   "metadata": {},
   "outputs": [],
   "source": [
    "#define the inverse Fourier transform\n",
    "#given a collection of matrices for each representation rho_i\n",
    "def fourier_inv(sigma,f_hat):\n",
    "    value=0\n",
    "    for partition in Partitions(n):\n",
    "        spc = SymmetricGroupRepresentation(partition, 'specht')\n",
    "        repn_mat = spc.representation_matrix(Permutation(sigma).inverse())\n",
    "        d_part = repn_mat.ncols() #should extract directly from parition of rep'n\n",
    "        fourier_coeff = f_hat[partition] #fourier coefficient\n",
    "        value += d_part*(repn_mat*fourier_coeff).trace()\n",
    "    return (1/G.order())*value"
   ]
  },
  {
   "cell_type": "code",
   "execution_count": 11,
   "id": "ca66d667",
   "metadata": {},
   "outputs": [
    {
     "data": {
      "text/plain": [
       "True"
      ]
     },
     "execution_count": 11,
     "metadata": {},
     "output_type": "execute_result"
    }
   ],
   "source": [
    "fourier_inv(Permutation([3,1,2]),fourier_coeffs)==f(Permutation([3,1,2]))"
   ]
  },
  {
   "cell_type": "code",
   "execution_count": 47,
   "id": "197c1dd0",
   "metadata": {},
   "outputs": [],
   "source": [
    "#the representation ring of S_3 is isomorphic to Z[X,Y]/(XY − Y,X2 − 1,Y2 − X − Y − 1)"
   ]
  },
  {
   "cell_type": "code",
   "execution_count": null,
   "id": "faa66c80",
   "metadata": {},
   "outputs": [],
   "source": []
  }
 ],
 "metadata": {
  "kernelspec": {
   "display_name": "SageMath 9.6",
   "language": "sage",
   "name": "sagemath-9.6"
  },
  "language_info": {
   "codemirror_mode": {
    "name": "ipython",
    "version": 3
   },
   "file_extension": ".py",
   "mimetype": "text/x-python",
   "name": "python",
   "nbconvert_exporter": "python",
   "pygments_lexer": "ipython3",
   "version": "3.10.3"
  }
 },
 "nbformat": 4,
 "nbformat_minor": 5
}
