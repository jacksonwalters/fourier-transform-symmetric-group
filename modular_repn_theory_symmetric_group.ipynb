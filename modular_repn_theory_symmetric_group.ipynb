{
 "cells": [
  {
   "cell_type": "code",
   "execution_count": 2,
   "id": "5e6cbfb8",
   "metadata": {},
   "outputs": [
    {
     "data": {
      "text/plain": [
       "24"
      ]
     },
     "execution_count": 2,
     "metadata": {},
     "output_type": "execute_result"
    }
   ],
   "source": [
    "SP = [la.specht_module(QQ) for la in Partitions(4)]\n",
    "sum(S.dimension()^2 for S in SP)"
   ]
  },
  {
   "cell_type": "code",
   "execution_count": 4,
   "id": "ddf63616",
   "metadata": {},
   "outputs": [
    {
     "data": {
      "text/plain": [
       "9"
      ]
     },
     "execution_count": 4,
     "metadata": {},
     "output_type": "execute_result"
    }
   ],
   "source": [
    "D = [(0,0), (0,1), (1,1), (1,2), (0,3)]\n",
    "SGA = SymmetricGroupAlgebra(QQ, 5)\n",
    "SM = SGA.specht_module(D)\n",
    "SM.dimension()"
   ]
  },
  {
   "cell_type": "code",
   "execution_count": 5,
   "id": "ae34f8f3",
   "metadata": {},
   "outputs": [
    {
     "data": {
      "text/plain": [
       "Specht module of [(0, 0), (0, 1), (0, 3), (1, 1), (1, 2)] over Rational Field"
      ]
     },
     "execution_count": 5,
     "metadata": {},
     "output_type": "execute_result"
    }
   ],
   "source": [
    "SM"
   ]
  },
  {
   "cell_type": "code",
   "execution_count": 9,
   "id": "7207b970",
   "metadata": {},
   "outputs": [
    {
     "data": {
      "text/plain": [
       "[[(0, 1)],\n",
       " [(1, 1)],\n",
       " [(2, 1)],\n",
       " [(3, 1)],\n",
       " [(4, 1)],\n",
       " [(5, 1)],\n",
       " [(6, 1)],\n",
       " [(7, 1)],\n",
       " [(8, 1)]]"
      ]
     },
     "execution_count": 9,
     "metadata": {},
     "output_type": "execute_result"
    }
   ],
   "source": [
    "[list(b) for b in SM.basis()]"
   ]
  },
  {
   "cell_type": "code",
   "execution_count": 11,
   "id": "042037df",
   "metadata": {},
   "outputs": [],
   "source": [
    "#TODO: compute dim D^{\\lambda}\n",
    "#for a p-regular partition \\lambda\n",
    "#find basis elements e_i for Specht modules\n",
    "#compute rank of Gram matrix (<e_i,e_j>)_{i,j=1,...,n}"
   ]
  },
  {
   "cell_type": "code",
   "execution_count": null,
   "id": "e0afe1e9",
   "metadata": {},
   "outputs": [],
   "source": []
  }
 ],
 "metadata": {
  "kernelspec": {
   "display_name": "SageMath 10.1",
   "language": "sage",
   "name": "sagemath"
  },
  "language_info": {
   "codemirror_mode": {
    "name": "ipython",
    "version": 3
   },
   "file_extension": ".py",
   "mimetype": "text/x-python",
   "name": "python",
   "nbconvert_exporter": "python",
   "pygments_lexer": "ipython3",
   "version": "3.11.1"
  }
 },
 "nbformat": 4,
 "nbformat_minor": 5
}
